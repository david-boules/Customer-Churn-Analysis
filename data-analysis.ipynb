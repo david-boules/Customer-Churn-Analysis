{
 "cells": [
  {
   "cell_type": "code",
   "execution_count": null,
   "id": "d75a615d-1237-45f0-a3f0-bac87216e59d",
   "metadata": {},
   "outputs": [],
   "source": [
    "import pandas as pd\n",
    "import numpy as np\n",
    "import matplotlib.pyplot as plt\n",
    "import seaborn as sns"
   ]
  },
  {
   "cell_type": "code",
   "execution_count": null,
   "id": "21513357-bcf6-47ac-9b3f-1ae2bdb6c5f1",
   "metadata": {},
   "outputs": [],
   "source": [
    "df = pd.read_csv(\"Churn_Modelling.csv\")"
   ]
  },
  {
   "cell_type": "markdown",
   "id": "337eb9c3-d167-49f3-b8a8-16bc5d51fe78",
   "metadata": {},
   "source": [
    "# Data Cleaning & Exploration"
   ]
  },
  {
   "cell_type": "code",
   "execution_count": null,
   "id": "7b9cfe6e-ddee-4e7d-8cdc-17536a3f966e",
   "metadata": {},
   "outputs": [],
   "source": [
    "df.head()"
   ]
  },
  {
   "cell_type": "code",
   "execution_count": null,
   "id": "3fe7b100-8c51-405e-a843-551104b446c3",
   "metadata": {},
   "outputs": [],
   "source": [
    "df.isnull().sum()"
   ]
  },
  {
   "cell_type": "markdown",
   "id": "67fff082-d9d0-497d-868a-9f04ca28e4d3",
   "metadata": {},
   "source": [
    "No missing values"
   ]
  },
  {
   "cell_type": "code",
   "execution_count": null,
   "id": "fffc7f1b-2078-4edd-8212-072c3d8e947b",
   "metadata": {},
   "outputs": [],
   "source": [
    "df.duplicated().sum()"
   ]
  },
  {
   "cell_type": "markdown",
   "id": "38d6281c-9692-488e-9e8c-f3cf55390509",
   "metadata": {},
   "source": [
    "No duplicate rows"
   ]
  },
  {
   "cell_type": "markdown",
   "id": "418b30f3-80bd-4493-a01f-82b05bef6caa",
   "metadata": {},
   "source": [
    "## Dropping irrelevant columns"
   ]
  },
  {
   "cell_type": "markdown",
   "id": "51a09ea6-b747-415c-a2b0-141e398c0a78",
   "metadata": {},
   "source": [
    "Irrelevant variables for analysis are:\n",
    "- RowNumber\n",
    "- CustomerId\n",
    "- Surname"
   ]
  },
  {
   "cell_type": "code",
   "execution_count": null,
   "id": "918bc4c7-2d15-4b0d-94ec-fc43ef7009d1",
   "metadata": {},
   "outputs": [],
   "source": [
    "irrelevant_rows = [\"RowNumber\", \"CustomerId\", \"Surname\"]\n",
    "df.drop(columns=irrelevant_rows, inplace = True)\n",
    "df.head()"
   ]
  },
  {
   "cell_type": "code",
   "execution_count": null,
   "id": "a5bbfddb-9386-4646-b9c1-e4882a0a4caf",
   "metadata": {},
   "outputs": [],
   "source": [
    "df.shape"
   ]
  },
  {
   "cell_type": "markdown",
   "id": "5e3af349-7d09-4855-91e8-4bb417c7ff39",
   "metadata": {},
   "source": [
    "10,000 observations in the sample, data for 11 different variables\n",
    "\n",
    "Our main variable of interest is **Exited**: Label indicating whether or not a customer has churned from the bank"
   ]
  },
  {
   "cell_type": "markdown",
   "id": "959f1a70-20ad-48ff-8752-4e391f1d5c09",
   "metadata": {},
   "source": [
    "# Descriptive Statistics"
   ]
  },
  {
   "cell_type": "markdown",
   "id": "eadc689c-cc1c-419a-acc8-8e5110a2d4b7",
   "metadata": {},
   "source": [
    "## Continuous Variables\n",
    "- Credit Score\n",
    "- Age\n",
    "- Tenure (may double as a categorical variable)\n",
    "- Balance\n",
    "- Number of Products (may double as a categorical variable)\n",
    "- Estimated Salary"
   ]
  },
  {
   "cell_type": "code",
   "execution_count": null,
   "id": "fc72a502-9a3c-4231-b76d-dd95a88e4480",
   "metadata": {},
   "outputs": [],
   "source": [
    "continuous_variables = [\"CreditScore\", \"Age\", \"Tenure\", \"Balance\", \"NumOfProducts\", \"EstimatedSalary\"]\n",
    "df.describe()"
   ]
  },
  {
   "cell_type": "code",
   "execution_count": null,
   "id": "4e4bb873-3b73-4d99-b1f2-bebc977392b8",
   "metadata": {},
   "outputs": [],
   "source": [
    "print(\"Mean observations for continuous variables:\") \n",
    "print(df.describe().loc['mean',continuous_variables])\n",
    "print(\"\\n\")\n",
    "print(\"Median observations for continuous variables:\")\n",
    "print(df.describe().loc['50%',continuous_variables])"
   ]
  },
  {
   "cell_type": "markdown",
   "id": "5c980360-2c56-4950-91dc-468301d754db",
   "metadata": {},
   "source": [
    "*(For money-related data, we can assume that the currency is *euros*, since the three geographical regions of the bank customers in this sample are France, Germany, and Spain, and no currency is specified in the description for the dataset)*"
   ]
  },
  {
   "cell_type": "code",
   "execution_count": null,
   "id": "d4616fc7-c909-466e-bfb1-052764e08723",
   "metadata": {},
   "outputs": [],
   "source": [
    "for variable in continuous_variables:\n",
    "    print(f\"LQ and UQ for {variable} are: \", df.describe().loc[\"25%\",variable], \" and \", df.describe().loc[\"75%\",variable])"
   ]
  },
  {
   "cell_type": "code",
   "execution_count": null,
   "id": "7916e02c-f545-42ac-b39a-ab2655cde9b6",
   "metadata": {},
   "outputs": [],
   "source": [
    "print(\"Standard deviations for continuous variables:\")\n",
    "print(df.describe().loc['std',continuous_variables])"
   ]
  },
  {
   "cell_type": "code",
   "execution_count": null,
   "id": "511742e0-ed49-4608-9b58-ca423dea6346",
   "metadata": {},
   "outputs": [],
   "source": [
    "fig, axes = plt.subplots(2,3,figsize=(15,8))\n",
    "axes = axes.flatten()\n",
    "\n",
    "for i, variable in enumerate(continuous_variables):\n",
    "    sns.boxplot(x=variable, data=df, ax=axes[i])\n",
    "    title = f\"Distribution of {variable}\" \n",
    "    axes[i].set_title(title)\n",
    "\n",
    "plt.tight_layout()\n",
    "plt.show()"
   ]
  },
  {
   "cell_type": "code",
   "execution_count": null,
   "id": "cdd3fad2",
   "metadata": {},
   "outputs": [],
   "source": [
    "fig, axes = plt.subplots(2,2,figsize=(15,8))\n",
    "axes = axes.flatten()\n",
    "\n",
    "hist_variables = [\"CreditScore\", \"Age\", \"Balance\", \"EstimatedSalary\"]\n",
    "\n",
    "for i, variable in enumerate(hist_variables):\n",
    "    if variable == \"Age\":\n",
    "        sns.histplot(x=variable, data=df, ax=axes[i], bins = 92-18)\n",
    "    else:\n",
    "        sns.histplot(x=variable, data=df, ax=axes[i])\n",
    "        title = f\"Distribution of {variable}\" \n",
    "        axes[i].set_title(title)\n",
    "\n",
    "plt.tight_layout()\n",
    "plt.show()"
   ]
  },
  {
   "cell_type": "markdown",
   "id": "b6054149-a475-421c-852c-52ce504c7112",
   "metadata": {},
   "source": [
    "**Comments**:\n",
    "- *Credit Score*: appears to approximately normally distributed, although there are several customers who appear to have achieved the max credit score (850) explaining why there is a tall bar right at the end\n",
    "- *Age*: Right-skewed with many older customers, although not large in quantity, compared to the median: 37 years old\n",
    "- *Balance*: Appears normally distributed but a huge number of accounts with a balance of 0 has affected the shape of the graph (another visualization without these empty accounts is shown below)\n",
    "- *Estimated Salary*: Appears approximately uniformly distributed from €11.58 (minimum) to €199,992.48 (maximum)"
   ]
  },
  {
   "cell_type": "code",
   "execution_count": null,
   "id": "67700c0e-f5ad-4e1a-9087-a408ddbec6fc",
   "metadata": {},
   "outputs": [],
   "source": [
    "print(\"Number of Customers with a 850 credit score: \", df[df['CreditScore'] > 849].shape[0])"
   ]
  },
  {
   "cell_type": "code",
   "execution_count": null,
   "id": "15690020-3880-4c3f-a63b-4c7b7f2b057f",
   "metadata": {},
   "outputs": [],
   "source": [
    "sns.histplot(x='Balance', data=df[df[\"Balance\"] > 0])"
   ]
  },
  {
   "cell_type": "markdown",
   "id": "4140df65-7876-4452-aeee-f566365d5127",
   "metadata": {},
   "source": [
    "## Categorical Variables\n",
    "- Geography\n",
    "- Gender\n",
    "- Tenure (may double as a continuous variable)\n",
    "- Number of Products (may double as a continuous variable)\n",
    "- 'Has Credit Card'\n",
    "- 'Is Active Member'\n",
    "- Exited (Churned)"
   ]
  },
  {
   "cell_type": "code",
   "execution_count": null,
   "id": "1c11a56d-3aa4-4b4b-9275-a483171f342a",
   "metadata": {},
   "outputs": [],
   "source": [
    "fig, axes = plt.subplots(3,3,figsize=(18,10))\n",
    "axes = axes.flatten()\n",
    "\n",
    "categorical_variables = [\"Geography\", \"Gender\", \"Tenure\", \"NumOfProducts\", \"HasCrCard\", \"IsActiveMember\", \"Exited\"]\n",
    "for i, variable in enumerate(categorical_variables):\n",
    "    sns.countplot(x=variable, data=df, ax=axes[i])\n",
    "    title = f\"Countplot of {variable}\" \n",
    "    axes[i].set_title(title)\n",
    "\n",
    "axes[7].axis(\"off\")\n",
    "axes[8].axis(\"off\")\n",
    "plt.tight_layout()\n",
    "plt.show()"
   ]
  },
  {
   "cell_type": "markdown",
   "id": "320978e7-31e1-40db-9b09-e8f1192001cb",
   "metadata": {},
   "source": [
    "**Comments**:\n",
    "- *Geography:* Around half of the customers in the sample are based in France, and the remaining customers are almost evenly split between Spain and Germany\n",
    "- *Gender:* The Female/Male split in the sample is approximately 45/55 (i.e. there are around 1000 more Males than Females)\n",
    "- *Tenure:* The number of years customers stay with the bank is very variable (distribution seems uniform, with the exception of few people staying for either <1 year or 10+ years)\n",
    "- *Number of Products:* The vast majority of customers in this sample have either 1 or 2 products with the bank (very few have 3 or 4)\n",
    "- *'Has a Credit Card':* The majoriy (~70%) of customers have a credit card with the bank, and the remaining customers do not\n",
    "- *'Is an Active Member':* The sample contains an almost equal amount of active/inactive members\n",
    "- *Exited:* As previously mentioned,, the churn rate in the sample is ~20%"
   ]
  },
  {
   "cell_type": "code",
   "execution_count": null,
   "id": "89b26e76-44b3-4443-8952-0228395501bc",
   "metadata": {},
   "outputs": [],
   "source": []
  },
  {
   "cell_type": "markdown",
   "id": "85487911-9f5d-434a-be29-277bdfb8fcdf",
   "metadata": {},
   "source": [
    "# Research Objectives"
   ]
  },
  {
   "cell_type": "markdown",
   "id": "498fdf58-3159-44ea-8506-a15b715e60c8",
   "metadata": {},
   "source": [
    "## 1. Customer Profiling\n",
    "> **What does the average bank customer look like?**"
   ]
  },
  {
   "cell_type": "code",
   "execution_count": null,
   "id": "781196b2-a639-4c15-9d3a-4146f5e126a0",
   "metadata": {},
   "outputs": [],
   "source": [
    "df.describe().iloc[1,]"
   ]
  },
  {
   "cell_type": "code",
   "execution_count": null,
   "id": "08f29d3c-b289-4067-8dfc-a200396b5f96",
   "metadata": {},
   "outputs": [],
   "source": [
    "df_churners = df[df[\"Exited\"] == 1]\n",
    "df_non_churners = df[df[\"Exited\"] == 0]"
   ]
  },
  {
   "cell_type": "code",
   "execution_count": null,
   "id": "6dedc4d2-3f5b-4b60-9b3e-08d43efd7184",
   "metadata": {},
   "outputs": [],
   "source": [
    "print(\"Number of churners: \", df_churners.shape[0])\n",
    "print(\"Number of non-churners: \", df_non_churners.shape[0])"
   ]
  },
  {
   "cell_type": "markdown",
   "id": "28d97ad6-b14f-416f-b1d0-19e590085aff",
   "metadata": {},
   "source": [
    "The churn rate in this sample is 20.37%"
   ]
  },
  {
   "cell_type": "markdown",
   "id": "0ea26e3c-cf18-4482-9ae9-186ac6e8d147",
   "metadata": {},
   "source": [
    "### Parameter of Interest #1: Mean Age\n",
    "> **A good point estimator: Sample Mean Age**\n",
    ">\n",
    "> Why it is a good estimator: *The sample mean is both **unbiased** and **consistent***"
   ]
  },
  {
   "cell_type": "code",
   "execution_count": null,
   "id": "46480939-060a-4092-a2dc-cdf42ff26b3b",
   "metadata": {},
   "outputs": [],
   "source": [
    "#calculating sample mean\n",
    "sample_mean_age = df.describe().loc['mean','Age']\n",
    "print(\"Sample mean Age:\", sample_mean_age)"
   ]
  },
  {
   "cell_type": "markdown",
   "id": "f79009dd-34ae-4fcb-b031-1b09e13da80c",
   "metadata": {},
   "source": [
    "#### 95% confidence level:"
   ]
  },
  {
   "cell_type": "code",
   "execution_count": null,
   "id": "e42a9532-8bcf-46f1-9ed7-fee3e79e8457",
   "metadata": {},
   "outputs": [],
   "source": [
    "from scipy.stats import norm\n",
    "z_value = norm.ppf(0.975)\n",
    "n = 10000\n",
    "\n",
    "#calculating the sample variance:\n",
    "sample_std_age = df.describe().loc['std','Age']\n",
    "sample_variance_age = sample_std_age ** 2\n",
    "print(\"Sample Variance of the Ages:\", sample_variance_age, f\"(Standard Deviation is: {sample_std_age})\")\n",
    "\n",
    "#calculating 95% confidence interval\n",
    "# (Sample Mean) ± Z_0.025(sqrt(s^2 / n))\n",
    "LL = sample_mean_age - (z_value * np.sqrt(sample_variance_age / n))\n",
    "UL = sample_mean_age + (z_value * np.sqrt(sample_variance_age / n))\n",
    "print(\"95% CI for the mean age: [\", LL, \",\", UL, \"]\")"
   ]
  },
  {
   "cell_type": "markdown",
   "id": "85133ecf-c856-48b5-9726-9b2dd05ca3a4",
   "metadata": {},
   "source": [
    "We are 95% confident that the true average age of all bank customers of this bank lies between 38.71 and 39.13 years old (For simplicitly, we can say that the true average age is very likely 39 years old)."
   ]
  },
  {
   "cell_type": "markdown",
   "id": "e006bbff-d019-4611-8725-45300f2bfeb3",
   "metadata": {},
   "source": [
    "### Parameter of Interest #2: \n",
    "> **A good point estimator:**\n",
    ">\n",
    "> Why it is a good estimator:"
   ]
  },
  {
   "cell_type": "code",
   "execution_count": null,
   "id": "84fa6590-74b2-49fe-8f3e-678697a0a62a",
   "metadata": {},
   "outputs": [],
   "source": []
  },
  {
   "cell_type": "markdown",
   "id": "19655a3f-48b0-4fd5-8a8d-06c7a1b1bec1",
   "metadata": {},
   "source": [
    "#### 95% confidence interval"
   ]
  },
  {
   "cell_type": "code",
   "execution_count": null,
   "id": "11fd5ec5-54b1-4e97-b34c-260eef9f67dd",
   "metadata": {},
   "outputs": [],
   "source": []
  },
  {
   "cell_type": "markdown",
   "id": "682b7c40-0736-4142-a1c8-8b61ddb5f450",
   "metadata": {},
   "source": [
    "### Difference between Mean Age of Churners/Non-Churners: \n",
    "> **A good point estimator: Difference between sample mean ages**\n",
    ">\n",
    "> Why it is a good estimator: *This difference is both **unbiased** and **consistent***"
   ]
  },
  {
   "cell_type": "code",
   "execution_count": null,
   "id": "189272c9-f2ff-46b9-9a7e-2649e8e8e580",
   "metadata": {},
   "outputs": [],
   "source": [
    "sample_mean_age_churners = df_churners.describe().loc['mean','Age']\n",
    "sample_mean_age_non_churners = df_non_churners.describe().loc['mean','Age']\n",
    "\n",
    "print(\"Sample age of churners: \", sample_mean_age_churners)\n",
    "print(\"Sample age of non-churners: \", sample_mean_age_non_churners)\n",
    "print(\"Point Estimator:\")\n",
    "sample_mean_difference = sample_mean_age_churners - sample_mean_age_non_churners\n",
    "print(\"Difference between ages of churners and non-churners: \", sample_mean_difference)"
   ]
  },
  {
   "cell_type": "markdown",
   "id": "5f23355e-48f2-4e2a-9717-3299c441c296",
   "metadata": {},
   "source": [
    "#### 95% confidence interval"
   ]
  },
  {
   "cell_type": "code",
   "execution_count": null,
   "id": "71715b20-9b1d-49d7-9b35-f5ee94139df6",
   "metadata": {},
   "outputs": [],
   "source": [
    "n_churners = 2037\n",
    "n_non_churners = 7963\n",
    "\n",
    "#calculating the sample variances for both groups:\n",
    "\n",
    "sample_std_age_churners = df_churners.describe().loc['std','Age']\n",
    "sample_variance_age_churners = sample_std_age_churners ** 2\n",
    "print(\"Sample Variance of the churners' Ages:\", sample_variance_age_churners, f\"(Standard Deviation is: {sample_std_age_churners})\")\n",
    "\n",
    "sample_std_age_non_churners = df_non_churners.describe().loc['std','Age']\n",
    "sample_variance_age_non_churners = sample_std_age_non_churners ** 2\n",
    "print(\"Sample Variance of the non-churners' Ages:\", sample_variance_age_non_churners, f\"(Standard Deviation is: {sample_std_age_non_churners})\")\n",
    "\n",
    "print(\"Confidence Interval\")\n",
    "LL = sample_mean_difference - z_value * np.sqrt( (sample_variance_age_churners / n_churners) + (sample_variance_age_non_churners / n_non_churners) )\n",
    "UL = sample_mean_difference + z_value * np.sqrt( (sample_variance_age_churners / n_churners) + (sample_variance_age_non_churners / n_non_churners) )\n",
    "print(\"95% CI for the sample mean age difference: [\", LL, \",\", UL, \"]\")"
   ]
  },
  {
   "cell_type": "markdown",
   "id": "b0eba75f-2558-4376-a12e-006dd5dfb96c",
   "metadata": {},
   "source": [
    "We are 95% confident that the true sample mean age difference lies between 6.95 and 7.91 years old. Since both bounds of the 95% CI are positive (with the lower bound very close to 7), we can confidenty conclude that the true average age of the churned customers is greater than the true average age of the retained customers, at the bank."
   ]
  },
  {
   "cell_type": "markdown",
   "id": "25bae981-9085-43d4-8752-2b4303b704b1",
   "metadata": {},
   "source": [
    "## 2. Gender-Based Churn Rate Differences\n",
    "> **Do male and female customers experience significantly different churn rates?**"
   ]
  },
  {
   "cell_type": "code",
   "execution_count": 27,
   "id": "a2962ef7-75cb-4931-b78b-85fbf68c6cf1",
   "metadata": {},
   "outputs": [],
   "source": [
    "F = df['Gender']=='Female'\n",
    "M = df['Gender']=='Male'"
   ]
  },
  {
   "cell_type": "code",
   "execution_count": 28,
   "id": "ef1f4179-e8d4-48b9-a980-e16d5bfb5ff6",
   "metadata": {},
   "outputs": [],
   "source": [
    "Churn_F = df[F & (df['Exited']==1)].shape[0] / df[F].shape[0]\n",
    "Churn_M = df[M & (df['Exited']==1)].shape[0] / df[M].shape[0]"
   ]
  },
  {
   "cell_type": "code",
   "execution_count": 29,
   "id": "b0d434e0-8d14-4db2-ac0a-c93d2a9b04c2",
   "metadata": {},
   "outputs": [
    {
     "name": "stdout",
     "output_type": "stream",
     "text": [
      "95% CI for the difference between porpotions of Male & Female churners: [ -0.09733540498074404 , -0.07497680432329347 ]\n"
     ]
    }
   ],
   "source": [
    "z_value = norm.ppf(0.975)\n",
    "n = 10000\n",
    "\n",
    "LL = Churn_M - Churn_F - z_value * (((Churn_M*(1-Churn_M))/n) + ((Churn_F*(1-Churn_F))/n))**0.5\n",
    "UL = Churn_M - Churn_F + z_value * (((Churn_M*(1-Churn_M))/n) + ((Churn_F*(1-Churn_F))/n))**0.5\n",
    "print(\"95% CI for the difference between porpotions of Male & Female churners: [\", LL, \",\", UL, \"]\")"
   ]
  },
  {
   "cell_type": "markdown",
   "id": "5a44f5d3-96a2-410d-8648-46f912cab875",
   "metadata": {},
   "source": [
    "## 3. Geographical Churn Behavior\n",
    "> **Are bank churn rates the same across international branches?**"
   ]
  },
  {
   "cell_type": "code",
   "execution_count": null,
   "id": "85ac71e8-9f49-4e8f-a5dd-8f2c6efbfa0c",
   "metadata": {},
   "outputs": [],
   "source": [
    "# Initialize a list to store churn statistics per country.\n",
    "country_stats = []\n",
    "\n",
    "# Group data by country and compute the sample proportion and its 95% confidence interval.\n",
    "for country, group in df.groupby('Country'):\n",
    "    n = len(group)\n",
    "    churned = group['Churned'].sum()\n",
    "    # Sample proportion of churned customers in this country.\n",
    "    prop = churned / n\n",
    "    # Standard error of the proportion.\n",
    "    se = np.sqrt(prop * (1 - prop) / n)\n",
    "    # 95% Confidence Interval\n",
    "    ci_lower = prop - 1.96 * se\n",
    "    ci_upper = prop + 1.96 * se\n",
    "\n",
    "    country_stats.append({\n",
    "        'Country': country,\n",
    "        'n': n,\n",
    "        'Churned': churned,\n",
    "        'Proportion': prop,\n",
    "        'CI Lower': ci_lower,\n",
    "        'CI Upper': ci_upper\n",
    "    })\n",
    "\n",
    "stats_df = pd.DataFrame(country_stats)\n",
    "print(\"Churn statistics by country:\")\n",
    "print(stats_df)\n"
   ]
  },
  {
   "cell_type": "code",
   "execution_count": null,
   "id": "09c54ae2-a48f-4e85-a0b6-7cf95cf1173b",
   "metadata": {},
   "outputs": [],
   "source": [
    "# For illustrative purposes, compute the relative risk between France and Germany (if both are available)\n",
    "if set(['France', 'Germany']).issubset(stats_df['Country'].unique()):\n",
    "    p_france = stats_df.loc[stats_df['Country'] == 'France', 'Proportion'].values[0]\n",
    "    p_germany = stats_df.loc[stats_df['Country'] == 'Germany', 'Proportion'].values[0]\n",
    "    relative_risk = p_france / p_germany if p_germany != 0 else np.nan\n",
    "    print(\"\\nRelative Risk (France / Germany): {:.4f}\".format(relative_risk))\n",
    "else:\n",
    "    print(\"\\nData for both France and Germany are not available to compute relative risk.\")\n",
    "\n",
    "# We got proportions for each country and the relative risk between France and Germany.\n",
    "# Germany had the highest proportion of customers by far.\n",
    "# France is less risky that Germany for investment, as it has a lower churn rate\n"
   ]
  },
  {
   "cell_type": "markdown",
   "id": "cb0fa766-1c7f-49af-8465-555ebde2eb64",
   "metadata": {},
   "source": [
    "## 4. Salary Variability & Churn\n",
    "> **How consistent are the salaries across churners and non-churners?**"
   ]
  },
  {
   "cell_type": "code",
   "execution_count": null,
   "id": "02135439-6a71-4a92-97a7-50c92161e681",
   "metadata": {},
   "outputs": [],
   "source": [
    "# Group by churn status (0: Retained, 1: Churned) and calculate salary variance along with additional summary stats.\n",
    "salary_stats = df.groupby('Churned')['EstimatedSalary'].agg(['mean', 'std', 'var', 'count'])\n",
    "\n",
    "# Rename indices for clarity.\n",
    "salary_stats = salary_stats.rename(index={0: 'Retained', 1: 'Churned'})\n",
    "print(\"\\nSalary statistics by churn status:\")\n",
    "print(salary_stats)"
   ]
  },
  {
   "cell_type": "markdown",
   "id": "c7574dd8-5bd9-4186-aa77-a8fe09f947ba",
   "metadata": {},
   "source": []
  },
  {
   "cell_type": "code",
   "execution_count": null,
   "id": "c846695e-509b-4029-bb3a-6855558b0e66",
   "metadata": {},
   "outputs": [],
   "source": [
    "# Compute the variance ratio: variance of salaries for churned customers divided by variance for retained customers.\n",
    "if salary_stats.loc['Retained', 'var'] != 0:\n",
    "    variance_ratio = salary_stats.loc['Churned', 'var'] / salary_stats.loc['Retained', 'var']\n",
    "    print(\"\\nVariance Ratio (Churned / Retained): {:.4f}\".format(variance_ratio))\n",
    "else:\n",
    "    print(\"\\nVariance for retained customers is zero, so variance ratio cannot be computed.\")\n",
    "\n",
    "# We got the variances for the churned and retained customers, and their variances, in particular\n",
    "# We also got a ratio between variances (Churned/Retained) and the ratio was  very close to 1, which implies...\n",
    "# There is no significant difference in the salaries of churned and unchurned customers"
   ]
  },
  {
   "cell_type": "markdown",
   "id": "52d71d89-1c63-47c1-a0da-aeaaf22a8193",
   "metadata": {},
   "source": [
    "## 5. Customer Activity & Retention\n",
    "> **Does being an active member make one more likely to stay with the bank?**"
   ]
  },
  {
   "cell_type": "code",
   "execution_count": 30,
   "id": "7d297267-8352-4c69-85ee-6449af07eaa1",
   "metadata": {},
   "outputs": [],
   "source": [
    "Active = df['IsActiveMember']== 1\n",
    "NotActive = df['IsActiveMember']==0"
   ]
  },
  {
   "cell_type": "code",
   "execution_count": 31,
   "id": "9134e8d0-6c84-4cbe-8eb3-ebe5235e43fc",
   "metadata": {},
   "outputs": [],
   "source": [
    "ActiveChurn = df[Active & (df['Exited']==1)].shape[0] / df[Active].shape[0]\n",
    "InActiveChurn = df[NotActive & (df['Exited']==1)].shape[0] / df[NotActive].shape[0]"
   ]
  },
  {
   "cell_type": "code",
   "execution_count": 32,
   "id": "3ad8f569-d646-4727-a2cc-30709957a950",
   "metadata": {},
   "outputs": [
    {
     "name": "stdout",
     "output_type": "stream",
     "text": [
      "95% CI for the difference between porpotions of Active & Inactive churners: [ -0.13688364698523642 , -0.11475281553403964 ]\n"
     ]
    }
   ],
   "source": [
    "z_value = norm.ppf(0.975)\n",
    "n = 10000\n",
    "\n",
    "LL = ActiveChurn - InActiveChurn - z_value * (((ActiveChurn*(1-ActiveChurn))/n) + ((InActiveChurn*(1-InActiveChurn))/n))**0.5\n",
    "UL = ActiveChurn - InActiveChurn + z_value * (((ActiveChurn*(1-ActiveChurn))/n) + ((InActiveChurn*(1-InActiveChurn))/n))**0.5\n",
    "print(\"95% CI for the difference between porpotions of Active & Inactive churners: [\", LL, \",\", UL, \"]\")"
   ]
  }
 ],
 "metadata": {
  "kernelspec": {
   "display_name": "Python 3 (ipykernel)",
   "language": "python",
   "name": "python3"
  },
  "language_info": {
   "codemirror_mode": {
    "name": "ipython",
    "version": 3
   },
   "file_extension": ".py",
   "mimetype": "text/x-python",
   "name": "python",
   "nbconvert_exporter": "python",
   "pygments_lexer": "ipython3",
   "version": "3.12.7"
  }
 },
 "nbformat": 4,
 "nbformat_minor": 5
}
